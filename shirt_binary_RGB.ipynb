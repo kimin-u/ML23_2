{
 "cells": [
  {
   "cell_type": "markdown",
   "metadata": {},
   "source": [
    "# 21번째 제출 \n",
    "\n",
    "### 패치 내용 \n",
    "gray 스케일 -> rgb 적용 스케일 "
   ]
  },
  {
   "cell_type": "code",
   "execution_count": 1,
   "metadata": {},
   "outputs": [
    {
     "name": "stdout",
     "output_type": "stream",
     "text": [
      "WARNING:tensorflow:From c:\\ProgramData\\anaconda3\\Lib\\site-packages\\keras\\src\\losses.py:2976: The name tf.losses.sparse_softmax_cross_entropy is deprecated. Please use tf.compat.v1.losses.sparse_softmax_cross_entropy instead.\n",
      "\n"
     ]
    }
   ],
   "source": [
    "import pandas as pd\n",
    "import numpy as np\n",
    "\n",
    "from sklearn.svm import SVC\n",
    "from sklearn.decomposition import PCA\n",
    "import lightgbm as lgb\n",
    "from sklearn.ensemble import VotingClassifier\n",
    "from xgboost import XGBClassifier\n",
    "\n",
    "import os\n",
    "from tqdm import tqdm\n",
    "import cv2\n",
    "from tensorflow.keras.preprocessing.image import ImageDataGenerator\n",
    "from tensorflow.keras.preprocessing import image\n",
    "from sklearn.metrics import accuracy_score\n",
    "from sklearn.preprocessing import StandardScaler\n",
    "\n"
   ]
  },
  {
   "cell_type": "code",
   "execution_count": 11,
   "metadata": {},
   "outputs": [],
   "source": [
    "training_data = pd.read_csv('C:/Users/유재림/Desktop/ML23_2-main/archive/fashion-mnist_train.csv')\n",
    "train_y = training_data['label'] # 라벨값 \n",
    "\n",
    "# train_X = training_data.drop('label',axis=1) -> 기존 X train 데이터 "
   ]
  },
  {
   "cell_type": "code",
   "execution_count": 5,
   "metadata": {},
   "outputs": [
    {
     "name": "stdout",
     "output_type": "stream",
     "text": [
      "60000\n"
     ]
    }
   ],
   "source": [
    "# 이미지 픽셀값 불러오기\n",
    "new_dataX = np.load('rgb_images.npy') # new_dataX 데이터 셋은 이미 데이터 정규화가 되어 있는 상태 \n",
    "\n",
    "num_images = len(new_dataX)\n",
    "print(num_images)\n",
    "# new_dataX"
   ]
  },
  {
   "cell_type": "code",
   "execution_count": 7,
   "metadata": {},
   "outputs": [
    {
     "data": {
      "text/html": [
       "<div>\n",
       "<style scoped>\n",
       "    .dataframe tbody tr th:only-of-type {\n",
       "        vertical-align: middle;\n",
       "    }\n",
       "\n",
       "    .dataframe tbody tr th {\n",
       "        vertical-align: top;\n",
       "    }\n",
       "\n",
       "    .dataframe thead th {\n",
       "        text-align: right;\n",
       "    }\n",
       "</style>\n",
       "<table border=\"1\" class=\"dataframe\">\n",
       "  <thead>\n",
       "    <tr style=\"text-align: right;\">\n",
       "      <th></th>\n",
       "      <th>pixel_0</th>\n",
       "      <th>pixel_1</th>\n",
       "      <th>pixel_2</th>\n",
       "      <th>pixel_3</th>\n",
       "      <th>pixel_4</th>\n",
       "      <th>pixel_5</th>\n",
       "      <th>pixel_6</th>\n",
       "      <th>pixel_7</th>\n",
       "      <th>pixel_8</th>\n",
       "      <th>pixel_9</th>\n",
       "      <th>...</th>\n",
       "      <th>pixel_3126</th>\n",
       "      <th>pixel_3127</th>\n",
       "      <th>pixel_3128</th>\n",
       "      <th>pixel_3129</th>\n",
       "      <th>pixel_3130</th>\n",
       "      <th>pixel_3131</th>\n",
       "      <th>pixel_3132</th>\n",
       "      <th>pixel_3133</th>\n",
       "      <th>pixel_3134</th>\n",
       "      <th>pixel_3135</th>\n",
       "    </tr>\n",
       "  </thead>\n",
       "  <tbody>\n",
       "    <tr>\n",
       "      <th>0</th>\n",
       "      <td>0.267004</td>\n",
       "      <td>0.004874</td>\n",
       "      <td>0.329415</td>\n",
       "      <td>1.0</td>\n",
       "      <td>0.267004</td>\n",
       "      <td>0.004874</td>\n",
       "      <td>0.329415</td>\n",
       "      <td>1.0</td>\n",
       "      <td>0.267004</td>\n",
       "      <td>0.004874</td>\n",
       "      <td>...</td>\n",
       "      <td>0.329415</td>\n",
       "      <td>1.0</td>\n",
       "      <td>0.267004</td>\n",
       "      <td>0.004874</td>\n",
       "      <td>0.329415</td>\n",
       "      <td>1.0</td>\n",
       "      <td>0.267004</td>\n",
       "      <td>0.004874</td>\n",
       "      <td>0.329415</td>\n",
       "      <td>1.0</td>\n",
       "    </tr>\n",
       "    <tr>\n",
       "      <th>1</th>\n",
       "      <td>0.267004</td>\n",
       "      <td>0.004874</td>\n",
       "      <td>0.329415</td>\n",
       "      <td>1.0</td>\n",
       "      <td>0.267004</td>\n",
       "      <td>0.004874</td>\n",
       "      <td>0.329415</td>\n",
       "      <td>1.0</td>\n",
       "      <td>0.267004</td>\n",
       "      <td>0.004874</td>\n",
       "      <td>...</td>\n",
       "      <td>0.329415</td>\n",
       "      <td>1.0</td>\n",
       "      <td>0.267004</td>\n",
       "      <td>0.004874</td>\n",
       "      <td>0.329415</td>\n",
       "      <td>1.0</td>\n",
       "      <td>0.267004</td>\n",
       "      <td>0.004874</td>\n",
       "      <td>0.329415</td>\n",
       "      <td>1.0</td>\n",
       "    </tr>\n",
       "    <tr>\n",
       "      <th>2</th>\n",
       "      <td>0.267004</td>\n",
       "      <td>0.004874</td>\n",
       "      <td>0.329415</td>\n",
       "      <td>1.0</td>\n",
       "      <td>0.267004</td>\n",
       "      <td>0.004874</td>\n",
       "      <td>0.329415</td>\n",
       "      <td>1.0</td>\n",
       "      <td>0.267004</td>\n",
       "      <td>0.004874</td>\n",
       "      <td>...</td>\n",
       "      <td>0.329415</td>\n",
       "      <td>1.0</td>\n",
       "      <td>0.267004</td>\n",
       "      <td>0.004874</td>\n",
       "      <td>0.329415</td>\n",
       "      <td>1.0</td>\n",
       "      <td>0.267004</td>\n",
       "      <td>0.004874</td>\n",
       "      <td>0.329415</td>\n",
       "      <td>1.0</td>\n",
       "    </tr>\n",
       "    <tr>\n",
       "      <th>3</th>\n",
       "      <td>0.267004</td>\n",
       "      <td>0.004874</td>\n",
       "      <td>0.329415</td>\n",
       "      <td>1.0</td>\n",
       "      <td>0.267004</td>\n",
       "      <td>0.004874</td>\n",
       "      <td>0.329415</td>\n",
       "      <td>1.0</td>\n",
       "      <td>0.267004</td>\n",
       "      <td>0.004874</td>\n",
       "      <td>...</td>\n",
       "      <td>0.329415</td>\n",
       "      <td>1.0</td>\n",
       "      <td>0.267004</td>\n",
       "      <td>0.004874</td>\n",
       "      <td>0.329415</td>\n",
       "      <td>1.0</td>\n",
       "      <td>0.267004</td>\n",
       "      <td>0.004874</td>\n",
       "      <td>0.329415</td>\n",
       "      <td>1.0</td>\n",
       "    </tr>\n",
       "    <tr>\n",
       "      <th>4</th>\n",
       "      <td>0.267004</td>\n",
       "      <td>0.004874</td>\n",
       "      <td>0.329415</td>\n",
       "      <td>1.0</td>\n",
       "      <td>0.267004</td>\n",
       "      <td>0.004874</td>\n",
       "      <td>0.329415</td>\n",
       "      <td>1.0</td>\n",
       "      <td>0.267004</td>\n",
       "      <td>0.004874</td>\n",
       "      <td>...</td>\n",
       "      <td>0.329415</td>\n",
       "      <td>1.0</td>\n",
       "      <td>0.267004</td>\n",
       "      <td>0.004874</td>\n",
       "      <td>0.329415</td>\n",
       "      <td>1.0</td>\n",
       "      <td>0.267004</td>\n",
       "      <td>0.004874</td>\n",
       "      <td>0.329415</td>\n",
       "      <td>1.0</td>\n",
       "    </tr>\n",
       "    <tr>\n",
       "      <th>...</th>\n",
       "      <td>...</td>\n",
       "      <td>...</td>\n",
       "      <td>...</td>\n",
       "      <td>...</td>\n",
       "      <td>...</td>\n",
       "      <td>...</td>\n",
       "      <td>...</td>\n",
       "      <td>...</td>\n",
       "      <td>...</td>\n",
       "      <td>...</td>\n",
       "      <td>...</td>\n",
       "      <td>...</td>\n",
       "      <td>...</td>\n",
       "      <td>...</td>\n",
       "      <td>...</td>\n",
       "      <td>...</td>\n",
       "      <td>...</td>\n",
       "      <td>...</td>\n",
       "      <td>...</td>\n",
       "      <td>...</td>\n",
       "      <td>...</td>\n",
       "    </tr>\n",
       "    <tr>\n",
       "      <th>59995</th>\n",
       "      <td>0.267004</td>\n",
       "      <td>0.004874</td>\n",
       "      <td>0.329415</td>\n",
       "      <td>1.0</td>\n",
       "      <td>0.267004</td>\n",
       "      <td>0.004874</td>\n",
       "      <td>0.329415</td>\n",
       "      <td>1.0</td>\n",
       "      <td>0.267004</td>\n",
       "      <td>0.004874</td>\n",
       "      <td>...</td>\n",
       "      <td>0.329415</td>\n",
       "      <td>1.0</td>\n",
       "      <td>0.267004</td>\n",
       "      <td>0.004874</td>\n",
       "      <td>0.329415</td>\n",
       "      <td>1.0</td>\n",
       "      <td>0.267004</td>\n",
       "      <td>0.004874</td>\n",
       "      <td>0.329415</td>\n",
       "      <td>1.0</td>\n",
       "    </tr>\n",
       "    <tr>\n",
       "      <th>59996</th>\n",
       "      <td>0.267004</td>\n",
       "      <td>0.004874</td>\n",
       "      <td>0.329415</td>\n",
       "      <td>1.0</td>\n",
       "      <td>0.267004</td>\n",
       "      <td>0.004874</td>\n",
       "      <td>0.329415</td>\n",
       "      <td>1.0</td>\n",
       "      <td>0.267004</td>\n",
       "      <td>0.004874</td>\n",
       "      <td>...</td>\n",
       "      <td>0.329415</td>\n",
       "      <td>1.0</td>\n",
       "      <td>0.267004</td>\n",
       "      <td>0.004874</td>\n",
       "      <td>0.329415</td>\n",
       "      <td>1.0</td>\n",
       "      <td>0.267004</td>\n",
       "      <td>0.004874</td>\n",
       "      <td>0.329415</td>\n",
       "      <td>1.0</td>\n",
       "    </tr>\n",
       "    <tr>\n",
       "      <th>59997</th>\n",
       "      <td>0.267004</td>\n",
       "      <td>0.004874</td>\n",
       "      <td>0.329415</td>\n",
       "      <td>1.0</td>\n",
       "      <td>0.267004</td>\n",
       "      <td>0.004874</td>\n",
       "      <td>0.329415</td>\n",
       "      <td>1.0</td>\n",
       "      <td>0.267004</td>\n",
       "      <td>0.004874</td>\n",
       "      <td>...</td>\n",
       "      <td>0.329415</td>\n",
       "      <td>1.0</td>\n",
       "      <td>0.267004</td>\n",
       "      <td>0.004874</td>\n",
       "      <td>0.329415</td>\n",
       "      <td>1.0</td>\n",
       "      <td>0.267004</td>\n",
       "      <td>0.004874</td>\n",
       "      <td>0.329415</td>\n",
       "      <td>1.0</td>\n",
       "    </tr>\n",
       "    <tr>\n",
       "      <th>59998</th>\n",
       "      <td>0.267004</td>\n",
       "      <td>0.004874</td>\n",
       "      <td>0.329415</td>\n",
       "      <td>1.0</td>\n",
       "      <td>0.267004</td>\n",
       "      <td>0.004874</td>\n",
       "      <td>0.329415</td>\n",
       "      <td>1.0</td>\n",
       "      <td>0.267004</td>\n",
       "      <td>0.004874</td>\n",
       "      <td>...</td>\n",
       "      <td>0.329415</td>\n",
       "      <td>1.0</td>\n",
       "      <td>0.267004</td>\n",
       "      <td>0.004874</td>\n",
       "      <td>0.329415</td>\n",
       "      <td>1.0</td>\n",
       "      <td>0.267004</td>\n",
       "      <td>0.004874</td>\n",
       "      <td>0.329415</td>\n",
       "      <td>1.0</td>\n",
       "    </tr>\n",
       "    <tr>\n",
       "      <th>59999</th>\n",
       "      <td>0.267004</td>\n",
       "      <td>0.004874</td>\n",
       "      <td>0.329415</td>\n",
       "      <td>1.0</td>\n",
       "      <td>0.267004</td>\n",
       "      <td>0.004874</td>\n",
       "      <td>0.329415</td>\n",
       "      <td>1.0</td>\n",
       "      <td>0.267004</td>\n",
       "      <td>0.004874</td>\n",
       "      <td>...</td>\n",
       "      <td>0.329415</td>\n",
       "      <td>1.0</td>\n",
       "      <td>0.267004</td>\n",
       "      <td>0.004874</td>\n",
       "      <td>0.329415</td>\n",
       "      <td>1.0</td>\n",
       "      <td>0.267004</td>\n",
       "      <td>0.004874</td>\n",
       "      <td>0.329415</td>\n",
       "      <td>1.0</td>\n",
       "    </tr>\n",
       "  </tbody>\n",
       "</table>\n",
       "<p>60000 rows × 3136 columns</p>\n",
       "</div>"
      ],
      "text/plain": [
       "        pixel_0   pixel_1   pixel_2  pixel_3   pixel_4   pixel_5   pixel_6  \\\n",
       "0      0.267004  0.004874  0.329415      1.0  0.267004  0.004874  0.329415   \n",
       "1      0.267004  0.004874  0.329415      1.0  0.267004  0.004874  0.329415   \n",
       "2      0.267004  0.004874  0.329415      1.0  0.267004  0.004874  0.329415   \n",
       "3      0.267004  0.004874  0.329415      1.0  0.267004  0.004874  0.329415   \n",
       "4      0.267004  0.004874  0.329415      1.0  0.267004  0.004874  0.329415   \n",
       "...         ...       ...       ...      ...       ...       ...       ...   \n",
       "59995  0.267004  0.004874  0.329415      1.0  0.267004  0.004874  0.329415   \n",
       "59996  0.267004  0.004874  0.329415      1.0  0.267004  0.004874  0.329415   \n",
       "59997  0.267004  0.004874  0.329415      1.0  0.267004  0.004874  0.329415   \n",
       "59998  0.267004  0.004874  0.329415      1.0  0.267004  0.004874  0.329415   \n",
       "59999  0.267004  0.004874  0.329415      1.0  0.267004  0.004874  0.329415   \n",
       "\n",
       "       pixel_7   pixel_8   pixel_9  ...  pixel_3126  pixel_3127  pixel_3128  \\\n",
       "0          1.0  0.267004  0.004874  ...    0.329415         1.0    0.267004   \n",
       "1          1.0  0.267004  0.004874  ...    0.329415         1.0    0.267004   \n",
       "2          1.0  0.267004  0.004874  ...    0.329415         1.0    0.267004   \n",
       "3          1.0  0.267004  0.004874  ...    0.329415         1.0    0.267004   \n",
       "4          1.0  0.267004  0.004874  ...    0.329415         1.0    0.267004   \n",
       "...        ...       ...       ...  ...         ...         ...         ...   \n",
       "59995      1.0  0.267004  0.004874  ...    0.329415         1.0    0.267004   \n",
       "59996      1.0  0.267004  0.004874  ...    0.329415         1.0    0.267004   \n",
       "59997      1.0  0.267004  0.004874  ...    0.329415         1.0    0.267004   \n",
       "59998      1.0  0.267004  0.004874  ...    0.329415         1.0    0.267004   \n",
       "59999      1.0  0.267004  0.004874  ...    0.329415         1.0    0.267004   \n",
       "\n",
       "       pixel_3129  pixel_3130  pixel_3131  pixel_3132  pixel_3133  pixel_3134  \\\n",
       "0        0.004874    0.329415         1.0    0.267004    0.004874    0.329415   \n",
       "1        0.004874    0.329415         1.0    0.267004    0.004874    0.329415   \n",
       "2        0.004874    0.329415         1.0    0.267004    0.004874    0.329415   \n",
       "3        0.004874    0.329415         1.0    0.267004    0.004874    0.329415   \n",
       "4        0.004874    0.329415         1.0    0.267004    0.004874    0.329415   \n",
       "...           ...         ...         ...         ...         ...         ...   \n",
       "59995    0.004874    0.329415         1.0    0.267004    0.004874    0.329415   \n",
       "59996    0.004874    0.329415         1.0    0.267004    0.004874    0.329415   \n",
       "59997    0.004874    0.329415         1.0    0.267004    0.004874    0.329415   \n",
       "59998    0.004874    0.329415         1.0    0.267004    0.004874    0.329415   \n",
       "59999    0.004874    0.329415         1.0    0.267004    0.004874    0.329415   \n",
       "\n",
       "       pixel_3135  \n",
       "0             1.0  \n",
       "1             1.0  \n",
       "2             1.0  \n",
       "3             1.0  \n",
       "4             1.0  \n",
       "...           ...  \n",
       "59995         1.0  \n",
       "59996         1.0  \n",
       "59997         1.0  \n",
       "59998         1.0  \n",
       "59999         1.0  \n",
       "\n",
       "[60000 rows x 3136 columns]"
      ]
     },
     "execution_count": 7,
     "metadata": {},
     "output_type": "execute_result"
    }
   ],
   "source": [
    "# 4D 배열 2D로 펼치기 \n",
    "flat_images = new_dataX.reshape((new_dataX.shape[0], -1))\n",
    "\n",
    "# Convert to DataFrame\n",
    "columns = [f'pixel_{i}' for i in range(flat_images.shape[1])]\n",
    "RGB_X = pd.DataFrame(data=flat_images, columns=columns)\n",
    "\n",
    "# Display the DataFrame - 이건 그냥 판다스로 내부 구조 파악해보기 \n",
    "RGB_X"
   ]
  },
  {
   "cell_type": "code",
   "execution_count": 12,
   "metadata": {},
   "outputs": [
    {
     "name": "stderr",
     "output_type": "stream",
     "text": [
      "100%|██████████| 60000/60000 [00:38<00:00, 1553.69it/s]"
     ]
    },
    {
     "name": "stdout",
     "output_type": "stream",
     "text": [
      "120000\n",
      "120000\n"
     ]
    },
    {
     "name": "stderr",
     "output_type": "stream",
     "text": [
      "\n"
     ]
    }
   ],
   "source": [
    "datagen = ImageDataGenerator(\n",
    "    width_shift_range=0.10,\n",
    "    height_shift_range=0.10\n",
    ")\n",
    "\n",
    "np.random.seed(42)\n",
    "\n",
    "# Data augmentation and adding to the training set loop\n",
    "aug_train_X = []\n",
    "aug_train_y = []\n",
    "\n",
    "for index, row in tqdm(RGB_X.iterrows(), total=len(RGB_X)):\n",
    "    random_num = np.random.random()\n",
    "\n",
    "    img = row.values.reshape((28, 28, 4))\n",
    "    img_array = image.img_to_array(img)\n",
    "    img_array = np.expand_dims(img_array, axis=0)\n",
    "\n",
    "    # Original data\n",
    "    aug_train_X.append(img_array[0])\n",
    "    aug_train_y.append(train_y[index])\n",
    "\n",
    "    # Augmented data with 2/3 probability\n",
    "    \n",
    "    augmented_img_array = next(datagen.flow(img_array, batch_size=1))\n",
    "    augmented_img_array = augmented_img_array.squeeze(axis=0)\n",
    "    aug_train_X.append(augmented_img_array)\n",
    "    aug_train_y.append(train_y[index])\n",
    "\n",
    "print(len(aug_train_X))\n",
    "print(len(aug_train_y))\n"
   ]
  },
  {
   "cell_type": "code",
   "execution_count": 13,
   "metadata": {},
   "outputs": [
    {
     "name": "stderr",
     "output_type": "stream",
     "text": [
      "100%|██████████| 60000/60000 [00:35<00:00, 1713.50it/s]\n"
     ]
    },
    {
     "name": "stdout",
     "output_type": "stream",
     "text": [
      "Shape of aug_train_X: (180000, 28, 28, 4)\n",
      "Shape of aug_train_y: (180000,)\n"
     ]
    }
   ],
   "source": [
    "for index, row in tqdm(RGB_X.iterrows(), total=len(RGB_X)):\n",
    "    random_num = np.random.random()\n",
    "\n",
    "    img = row.values.reshape((28, 28, 4))\n",
    "    img_array = image.img_to_array(img)\n",
    "    img_array = np.expand_dims(img_array, axis=0)\n",
    "\n",
    "    # Original data\n",
    "    # aug_train_X.append(img_array[0])\n",
    "    # aug_train_y.append(train_y[index])\n",
    "\n",
    "    augmented_img_array = next(datagen.flow(img_array, batch_size=1))\n",
    "    augmented_img_array = augmented_img_array.squeeze(axis=0)\n",
    "    aug_train_X.append(augmented_img_array)\n",
    "    aug_train_y.append(train_y[index])\n",
    "    \n",
    "# Convert the lists to numpy arrays\n",
    "aug_train_X = np.array(aug_train_X)\n",
    "aug_train_y = np.array(aug_train_y)\n",
    "\n",
    "# Check the shape of the new arrays\n",
    "print(\"Shape of aug_train_X:\", aug_train_X.shape)\n",
    "print(\"Shape of aug_train_y:\", aug_train_y.shape)"
   ]
  },
  {
   "cell_type": "code",
   "execution_count": 14,
   "metadata": {},
   "outputs": [],
   "source": [
    "aug_train_X = aug_train_X.reshape((aug_train_X.shape[0], -1))\n",
    "# aug_train_X/=255.0 # RGB 데이터 셋은 이미 정규화가 된 상태로 존재 오히려 /255 하면 오류가 남 "
   ]
  },
  {
   "cell_type": "code",
   "execution_count": 15,
   "metadata": {},
   "outputs": [
    {
     "name": "stdout",
     "output_type": "stream",
     "text": [
      "(180000, 3136)\n"
     ]
    }
   ],
   "source": [
    "print(aug_train_X.shape)"
   ]
  },
  {
   "cell_type": "markdown",
   "metadata": {},
   "source": [
    "# 새로운 PCA값 찾기 "
   ]
  },
  {
   "cell_type": "code",
   "execution_count": 18,
   "metadata": {},
   "outputs": [
    {
     "data": {
      "text/html": [
       "<style>#sk-container-id-1 {color: black;}#sk-container-id-1 pre{padding: 0;}#sk-container-id-1 div.sk-toggleable {background-color: white;}#sk-container-id-1 label.sk-toggleable__label {cursor: pointer;display: block;width: 100%;margin-bottom: 0;padding: 0.3em;box-sizing: border-box;text-align: center;}#sk-container-id-1 label.sk-toggleable__label-arrow:before {content: \"▸\";float: left;margin-right: 0.25em;color: #696969;}#sk-container-id-1 label.sk-toggleable__label-arrow:hover:before {color: black;}#sk-container-id-1 div.sk-estimator:hover label.sk-toggleable__label-arrow:before {color: black;}#sk-container-id-1 div.sk-toggleable__content {max-height: 0;max-width: 0;overflow: hidden;text-align: left;background-color: #f0f8ff;}#sk-container-id-1 div.sk-toggleable__content pre {margin: 0.2em;color: black;border-radius: 0.25em;background-color: #f0f8ff;}#sk-container-id-1 input.sk-toggleable__control:checked~div.sk-toggleable__content {max-height: 200px;max-width: 100%;overflow: auto;}#sk-container-id-1 input.sk-toggleable__control:checked~label.sk-toggleable__label-arrow:before {content: \"▾\";}#sk-container-id-1 div.sk-estimator input.sk-toggleable__control:checked~label.sk-toggleable__label {background-color: #d4ebff;}#sk-container-id-1 div.sk-label input.sk-toggleable__control:checked~label.sk-toggleable__label {background-color: #d4ebff;}#sk-container-id-1 input.sk-hidden--visually {border: 0;clip: rect(1px 1px 1px 1px);clip: rect(1px, 1px, 1px, 1px);height: 1px;margin: -1px;overflow: hidden;padding: 0;position: absolute;width: 1px;}#sk-container-id-1 div.sk-estimator {font-family: monospace;background-color: #f0f8ff;border: 1px dotted black;border-radius: 0.25em;box-sizing: border-box;margin-bottom: 0.5em;}#sk-container-id-1 div.sk-estimator:hover {background-color: #d4ebff;}#sk-container-id-1 div.sk-parallel-item::after {content: \"\";width: 100%;border-bottom: 1px solid gray;flex-grow: 1;}#sk-container-id-1 div.sk-label:hover label.sk-toggleable__label {background-color: #d4ebff;}#sk-container-id-1 div.sk-serial::before {content: \"\";position: absolute;border-left: 1px solid gray;box-sizing: border-box;top: 0;bottom: 0;left: 50%;z-index: 0;}#sk-container-id-1 div.sk-serial {display: flex;flex-direction: column;align-items: center;background-color: white;padding-right: 0.2em;padding-left: 0.2em;position: relative;}#sk-container-id-1 div.sk-item {position: relative;z-index: 1;}#sk-container-id-1 div.sk-parallel {display: flex;align-items: stretch;justify-content: center;background-color: white;position: relative;}#sk-container-id-1 div.sk-item::before, #sk-container-id-1 div.sk-parallel-item::before {content: \"\";position: absolute;border-left: 1px solid gray;box-sizing: border-box;top: 0;bottom: 0;left: 50%;z-index: -1;}#sk-container-id-1 div.sk-parallel-item {display: flex;flex-direction: column;z-index: 1;position: relative;background-color: white;}#sk-container-id-1 div.sk-parallel-item:first-child::after {align-self: flex-end;width: 50%;}#sk-container-id-1 div.sk-parallel-item:last-child::after {align-self: flex-start;width: 50%;}#sk-container-id-1 div.sk-parallel-item:only-child::after {width: 0;}#sk-container-id-1 div.sk-dashed-wrapped {border: 1px dashed gray;margin: 0 0.4em 0.5em 0.4em;box-sizing: border-box;padding-bottom: 0.4em;background-color: white;}#sk-container-id-1 div.sk-label label {font-family: monospace;font-weight: bold;display: inline-block;line-height: 1.2em;}#sk-container-id-1 div.sk-label-container {text-align: center;}#sk-container-id-1 div.sk-container {/* jupyter's `normalize.less` sets `[hidden] { display: none; }` but bootstrap.min.css set `[hidden] { display: none !important; }` so we also need the `!important` here to be able to override the default hidden behavior on the sphinx rendered scikit-learn.org. See: https://github.com/scikit-learn/scikit-learn/issues/21755 */display: inline-block !important;position: relative;}#sk-container-id-1 div.sk-text-repr-fallback {display: none;}</style><div id=\"sk-container-id-1\" class=\"sk-top-container\"><div class=\"sk-text-repr-fallback\"><pre>PCA()</pre><b>In a Jupyter environment, please rerun this cell to show the HTML representation or trust the notebook. <br />On GitHub, the HTML representation is unable to render, please try loading this page with nbviewer.org.</b></div><div class=\"sk-container\" hidden><div class=\"sk-item\"><div class=\"sk-estimator sk-toggleable\"><input class=\"sk-toggleable__control sk-hidden--visually\" id=\"sk-estimator-id-1\" type=\"checkbox\" checked><label for=\"sk-estimator-id-1\" class=\"sk-toggleable__label sk-toggleable__label-arrow\">PCA</label><div class=\"sk-toggleable__content\"><pre>PCA()</pre></div></div></div></div></div>"
      ],
      "text/plain": [
       "PCA()"
      ]
     },
     "execution_count": 18,
     "metadata": {},
     "output_type": "execute_result"
    }
   ],
   "source": [
    "from sklearn.decomposition import PCA\n",
    "\n",
    "view_pca = PCA()\n",
    "view_pca.fit(aug_train_X)  # X는 데이터"
   ]
  },
  {
   "cell_type": "code",
   "execution_count": 19,
   "metadata": {},
   "outputs": [
    {
     "name": "stdout",
     "output_type": "stream",
     "text": [
      "443\n"
     ]
    }
   ],
   "source": [
    "# 누적 설명된 분산이 목표치(예: 0.95)를 넘을 때까지 n_components를 증가시킴\n",
    "\n",
    "# n_components를 실수로 인자를 넣게 되면 요 코드가 먼저 실행되서 best차원 값을 자동으로 넣어줌 \n",
    "explained_variance_ratio_cumsum = view_pca.explained_variance_ratio_.cumsum()\n",
    "best_n_components = (explained_variance_ratio_cumsum >= 0.98).argmax() + 1\n",
    "\n",
    "print(best_n_components)"
   ]
  },
  {
   "cell_type": "code",
   "execution_count": 16,
   "metadata": {},
   "outputs": [],
   "source": [
    "real_pca = PCA( n_components= 0.975 )\n",
    "aug_train_X = real_pca.fit_transform(aug_train_X)"
   ]
  },
  {
   "cell_type": "code",
   "execution_count": 20,
   "metadata": {},
   "outputs": [
    {
     "data": {
      "text/plain": [
       "(180000, 669)"
      ]
     },
     "execution_count": 20,
     "metadata": {},
     "output_type": "execute_result"
    }
   ],
   "source": [
    "aug_train_X.shape # 몇 차원까지 줄었는가? -> 분산 0.975일때 669차원까지 "
   ]
  },
  {
   "cell_type": "code",
   "execution_count": 10,
   "metadata": {},
   "outputs": [
    {
     "data": {
      "text/html": [
       "<style>#sk-container-id-1 {color: black;}#sk-container-id-1 pre{padding: 0;}#sk-container-id-1 div.sk-toggleable {background-color: white;}#sk-container-id-1 label.sk-toggleable__label {cursor: pointer;display: block;width: 100%;margin-bottom: 0;padding: 0.3em;box-sizing: border-box;text-align: center;}#sk-container-id-1 label.sk-toggleable__label-arrow:before {content: \"▸\";float: left;margin-right: 0.25em;color: #696969;}#sk-container-id-1 label.sk-toggleable__label-arrow:hover:before {color: black;}#sk-container-id-1 div.sk-estimator:hover label.sk-toggleable__label-arrow:before {color: black;}#sk-container-id-1 div.sk-toggleable__content {max-height: 0;max-width: 0;overflow: hidden;text-align: left;background-color: #f0f8ff;}#sk-container-id-1 div.sk-toggleable__content pre {margin: 0.2em;color: black;border-radius: 0.25em;background-color: #f0f8ff;}#sk-container-id-1 input.sk-toggleable__control:checked~div.sk-toggleable__content {max-height: 200px;max-width: 100%;overflow: auto;}#sk-container-id-1 input.sk-toggleable__control:checked~label.sk-toggleable__label-arrow:before {content: \"▾\";}#sk-container-id-1 div.sk-estimator input.sk-toggleable__control:checked~label.sk-toggleable__label {background-color: #d4ebff;}#sk-container-id-1 div.sk-label input.sk-toggleable__control:checked~label.sk-toggleable__label {background-color: #d4ebff;}#sk-container-id-1 input.sk-hidden--visually {border: 0;clip: rect(1px 1px 1px 1px);clip: rect(1px, 1px, 1px, 1px);height: 1px;margin: -1px;overflow: hidden;padding: 0;position: absolute;width: 1px;}#sk-container-id-1 div.sk-estimator {font-family: monospace;background-color: #f0f8ff;border: 1px dotted black;border-radius: 0.25em;box-sizing: border-box;margin-bottom: 0.5em;}#sk-container-id-1 div.sk-estimator:hover {background-color: #d4ebff;}#sk-container-id-1 div.sk-parallel-item::after {content: \"\";width: 100%;border-bottom: 1px solid gray;flex-grow: 1;}#sk-container-id-1 div.sk-label:hover label.sk-toggleable__label {background-color: #d4ebff;}#sk-container-id-1 div.sk-serial::before {content: \"\";position: absolute;border-left: 1px solid gray;box-sizing: border-box;top: 0;bottom: 0;left: 50%;z-index: 0;}#sk-container-id-1 div.sk-serial {display: flex;flex-direction: column;align-items: center;background-color: white;padding-right: 0.2em;padding-left: 0.2em;position: relative;}#sk-container-id-1 div.sk-item {position: relative;z-index: 1;}#sk-container-id-1 div.sk-parallel {display: flex;align-items: stretch;justify-content: center;background-color: white;position: relative;}#sk-container-id-1 div.sk-item::before, #sk-container-id-1 div.sk-parallel-item::before {content: \"\";position: absolute;border-left: 1px solid gray;box-sizing: border-box;top: 0;bottom: 0;left: 50%;z-index: -1;}#sk-container-id-1 div.sk-parallel-item {display: flex;flex-direction: column;z-index: 1;position: relative;background-color: white;}#sk-container-id-1 div.sk-parallel-item:first-child::after {align-self: flex-end;width: 50%;}#sk-container-id-1 div.sk-parallel-item:last-child::after {align-self: flex-start;width: 50%;}#sk-container-id-1 div.sk-parallel-item:only-child::after {width: 0;}#sk-container-id-1 div.sk-dashed-wrapped {border: 1px dashed gray;margin: 0 0.4em 0.5em 0.4em;box-sizing: border-box;padding-bottom: 0.4em;background-color: white;}#sk-container-id-1 div.sk-label label {font-family: monospace;font-weight: bold;display: inline-block;line-height: 1.2em;}#sk-container-id-1 div.sk-label-container {text-align: center;}#sk-container-id-1 div.sk-container {/* jupyter's `normalize.less` sets `[hidden] { display: none; }` but bootstrap.min.css set `[hidden] { display: none !important; }` so we also need the `!important` here to be able to override the default hidden behavior on the sphinx rendered scikit-learn.org. See: https://github.com/scikit-learn/scikit-learn/issues/21755 */display: inline-block !important;position: relative;}#sk-container-id-1 div.sk-text-repr-fallback {display: none;}</style><div id=\"sk-container-id-1\" class=\"sk-top-container\"><div class=\"sk-text-repr-fallback\"><pre>SVC(C=16)</pre><b>In a Jupyter environment, please rerun this cell to show the HTML representation or trust the notebook. <br />On GitHub, the HTML representation is unable to render, please try loading this page with nbviewer.org.</b></div><div class=\"sk-container\" hidden><div class=\"sk-item\"><div class=\"sk-estimator sk-toggleable\"><input class=\"sk-toggleable__control sk-hidden--visually\" id=\"sk-estimator-id-1\" type=\"checkbox\" checked><label for=\"sk-estimator-id-1\" class=\"sk-toggleable__label sk-toggleable__label-arrow\">SVC</label><div class=\"sk-toggleable__content\"><pre>SVC(C=16)</pre></div></div></div></div></div>"
      ],
      "text/plain": [
       "SVC(C=16)"
      ]
     },
     "execution_count": 10,
     "metadata": {},
     "output_type": "execute_result"
    }
   ],
   "source": [
    "# 실험을 위해 이진분류는 제외하고 실험함 \n",
    "\n",
    "# # 라벨 6에 대한 이진 분류기를 위한 라벨 생성\n",
    "# binary_train_y = (aug_train_y == 6).astype(int)\n",
    "\n",
    "# # SVC 이진 분류기 학습\n",
    "# binary_svc = SVC(gamma='scale', kernel='rbf', C=16)\n",
    "# binary_svc.fit(aug_train_X, binary_train_y)"
   ]
  },
  {
   "cell_type": "code",
   "execution_count": 21,
   "metadata": {},
   "outputs": [],
   "source": [
    "# 원래의 분류기 학습\n",
    "svc = SVC(gamma='scale', kernel='rbf', C=16)\n",
    "svc.fit(aug_train_X, aug_train_y)"
   ]
  },
  {
   "cell_type": "markdown",
   "metadata": {},
   "source": [
    "# 테스트 데이터 셋 color이미지 출력 "
   ]
  },
  {
   "cell_type": "code",
   "execution_count": null,
   "metadata": {},
   "outputs": [],
   "source": []
  },
  {
   "cell_type": "code",
   "execution_count": 12,
   "metadata": {},
   "outputs": [
    {
     "name": "stdout",
     "output_type": "stream",
     "text": [
      "10000\n"
     ]
    },
    {
     "name": "stderr",
     "output_type": "stream",
     "text": [
      "Loading and preprocessing: 100%|██████████| 10000/10000 [01:47<00:00, 92.98it/s]\n"
     ]
    },
    {
     "name": "stdout",
     "output_type": "stream",
     "text": [
      "(10000, 784)\n",
      "pca 적용\n",
      "(10000, 256)\n"
     ]
    }
   ],
   "source": [
    "import matplotlib.pyplot as plt\n",
    "\n",
    "test_data_folder = \"C:/Users/유재림/Desktop/ML23_2-main/ML23_2/submitcode/data\"\n",
    "\n",
    "# 테스트 데이터 로드 및 전처리\n",
    "test_X = []\n",
    "file_names = []\n",
    "\n",
    "print(len(os.listdir(test_data_folder)))\n",
    "\n",
    "# tqdm으로 래핑\n",
    "for file_name in tqdm(os.listdir(test_data_folder), desc=\"Loading and preprocessing\"):\n",
    "    if file_name.endswith(\".png\"):\n",
    "        file_path = str(test_data_folder) + \"/\" + str(file_name)\n",
    "        try:\n",
    "\n",
    "            img_array = np.fromfile(file_path, np.uint8)\n",
    "            img = cv2.imdecode(img_array, cv2.IMREAD_COLOR)\n",
    "            image_array = img / 255.0  # 0부터 1사이의 값\n",
    "            test_X.append(image_array.flatten())  # 2D 배열을 1D로 펼침\n",
    "\n",
    "            plt.imshow(cv2.cvtColor(img, cv2.COLOR_BGR2RGB))  # BGR에서 RGB로 변환\n",
    "            plt.show()\n",
    "\n",
    "            file_names.append(file_name)\n",
    "        except Exception as e:\n",
    "            print(f\"Error processing file {file_name}: {str(e)}\")\n",
    "\n",
    "\n",
    "# NumPy 배열로 변환\n",
    "test_X = np.array(test_X)\n",
    "print(test_X.shape)\n",
    "\n",
    "if len(test_X) == 0:\n",
    "    print(\"No valid test images found.\")\n",
    "else:\n",
    "    print(\"pca 적용\")\n",
    "    test_X = real_pca.transform(test_X)\n",
    "    print(test_X.shape) # 테스트 PCA shape \n",
    "\n",
    "    # 테스트 데이터에 대한 예측\n",
    "    # binary_predictions = binary_svc.predict(test_X)\n",
    "    predictions = svc.predict(test_X)\n",
    "\n",
    "    # 두 분류기의 결과를 합침\n",
    "    # final_predictions = np.where(binary_predictions == 1, 6, original_predictions)\n",
    "\n",
    "\n",
    "with open('C:/Users/유재림/Desktop/ML23_2-main/ML23_2/submitcode/testResult2.txt', 'w') as file:\n",
    "    for i, pred in enumerate(predictions):\n",
    "        file.write(f\"{i:05d} {pred}\\n\")"
   ]
  },
  {
   "cell_type": "code",
   "execution_count": 13,
   "metadata": {},
   "outputs": [
    {
     "ename": "FileNotFoundError",
     "evalue": "[Errno 2] No such file or directory: 'C:/Users/julie/Machine_Learning/project/teamproject/mAP/mAP/testResult.txt'",
     "output_type": "error",
     "traceback": [
      "\u001b[1;31m---------------------------------------------------------------------------\u001b[0m",
      "\u001b[1;31mFileNotFoundError\u001b[0m                         Traceback (most recent call last)",
      "\u001b[1;32mc:\\Users\\유재림\\Desktop\\ML23_2-main\\ML23_2\\submitcode\\shirt_binary (1).ipynb Cell 11\u001b[0m line \u001b[0;36m1\n\u001b[0;32m      <a href='vscode-notebook-cell:/c%3A/Users/%EC%9C%A0%EC%9E%AC%EB%A6%BC/Desktop/ML23_2-main/ML23_2/submitcode/shirt_binary%20%281%29.ipynb#X13sZmlsZQ%3D%3D?line=6'>7</a>\u001b[0m label_path \u001b[39m=\u001b[39m \u001b[39m\"\u001b[39m\u001b[39mC:/Users/julie/Machine_Learning/project/teamproject/mAP/mAP/label.txt\u001b[39m\u001b[39m\"\u001b[39m\n\u001b[0;32m      <a href='vscode-notebook-cell:/c%3A/Users/%EC%9C%A0%EC%9E%AC%EB%A6%BC/Desktop/ML23_2-main/ML23_2/submitcode/shirt_binary%20%281%29.ipynb#X13sZmlsZQ%3D%3D?line=8'>9</a>\u001b[0m \u001b[39m# pred에 해당하는 testResult.txt 파일 읽어오는 부분입니다.\u001b[39;00m\n\u001b[1;32m---> <a href='vscode-notebook-cell:/c%3A/Users/%EC%9C%A0%EC%9E%AC%EB%A6%BC/Desktop/ML23_2-main/ML23_2/submitcode/shirt_binary%20%281%29.ipynb#X13sZmlsZQ%3D%3D?line=9'>10</a>\u001b[0m \u001b[39mwith\u001b[39;00m \u001b[39mopen\u001b[39;49m(testResult_path, \u001b[39m'\u001b[39;49m\u001b[39mr\u001b[39;49m\u001b[39m'\u001b[39;49m) \u001b[39mas\u001b[39;00m file1:\n\u001b[0;32m     <a href='vscode-notebook-cell:/c%3A/Users/%EC%9C%A0%EC%9E%AC%EB%A6%BC/Desktop/ML23_2-main/ML23_2/submitcode/shirt_binary%20%281%29.ipynb#X13sZmlsZQ%3D%3D?line=10'>11</a>\u001b[0m     preds \u001b[39m=\u001b[39m file1\u001b[39m.\u001b[39mreadlines()\n\u001b[0;32m     <a href='vscode-notebook-cell:/c%3A/Users/%EC%9C%A0%EC%9E%AC%EB%A6%BC/Desktop/ML23_2-main/ML23_2/submitcode/shirt_binary%20%281%29.ipynb#X13sZmlsZQ%3D%3D?line=12'>13</a>\u001b[0m \u001b[39m# 정답에 해당하는 label.txt 파일 읽어오는 부분입니다.\u001b[39;00m\n",
      "File \u001b[1;32m~\\AppData\\Roaming\\Python\\Python311\\site-packages\\IPython\\core\\interactiveshell.py:282\u001b[0m, in \u001b[0;36m_modified_open\u001b[1;34m(file, *args, **kwargs)\u001b[0m\n\u001b[0;32m    275\u001b[0m \u001b[39mif\u001b[39;00m file \u001b[39min\u001b[39;00m {\u001b[39m0\u001b[39m, \u001b[39m1\u001b[39m, \u001b[39m2\u001b[39m}:\n\u001b[0;32m    276\u001b[0m     \u001b[39mraise\u001b[39;00m \u001b[39mValueError\u001b[39;00m(\n\u001b[0;32m    277\u001b[0m         \u001b[39mf\u001b[39m\u001b[39m\"\u001b[39m\u001b[39mIPython won\u001b[39m\u001b[39m'\u001b[39m\u001b[39mt let you open fd=\u001b[39m\u001b[39m{\u001b[39;00mfile\u001b[39m}\u001b[39;00m\u001b[39m by default \u001b[39m\u001b[39m\"\u001b[39m\n\u001b[0;32m    278\u001b[0m         \u001b[39m\"\u001b[39m\u001b[39mas it is likely to crash IPython. If you know what you are doing, \u001b[39m\u001b[39m\"\u001b[39m\n\u001b[0;32m    279\u001b[0m         \u001b[39m\"\u001b[39m\u001b[39myou can use builtins\u001b[39m\u001b[39m'\u001b[39m\u001b[39m open.\u001b[39m\u001b[39m\"\u001b[39m\n\u001b[0;32m    280\u001b[0m     )\n\u001b[1;32m--> 282\u001b[0m \u001b[39mreturn\u001b[39;00m io_open(file, \u001b[39m*\u001b[39;49margs, \u001b[39m*\u001b[39;49m\u001b[39m*\u001b[39;49mkwargs)\n",
      "\u001b[1;31mFileNotFoundError\u001b[0m: [Errno 2] No such file or directory: 'C:/Users/julie/Machine_Learning/project/teamproject/mAP/mAP/testResult.txt'"
     ]
    }
   ],
   "source": [
    "import sys\n",
    "import numpy as np\n",
    "from sklearn.metrics import auc\n",
    "from collections import Counter\n",
    "\n",
    "testResult_path = \"C:/Users/유재림/Desktop/ML23_2-main/ML23_2/submitcode/testResult2.txt\"\n",
    "label_path = \"C:/Users/유재림/Desktop/ML23_2-main/ML23_2/submitcode/label.txt\"\n",
    "\n",
    "# pred에 해당하는 testResult.txt 파일 읽어오는 부분입니다.\n",
    "with open(testResult_path, 'r') as file1:\n",
    "    preds = file1.readlines()\n",
    "\n",
    "# 정답에 해당하는 label.txt 파일 읽어오는 부분입니다.\n",
    "with open(label_path, 'r') as file2:\n",
    "    labels = file2.readlines()\n",
    "    \n",
    "\n",
    "# pred와 label의 클래스값만 리스트로 변환하는 부분입니다.\n",
    "p = np.array([pred.strip().split()[1] for pred in preds])\n",
    "l = np.array([label.strip().split()[1] for label in labels])\n",
    "\n",
    "# pred의 클래스 개수를 count하는 부분입니다.\n",
    "predict_label_count_dict = Counter(p)\n",
    "predict_label_count_dict = dict(sorted(predict_label_count_dict.items()))\n",
    "\n",
    "## mAP 계산하는 부분입니다.\n",
    "AP = []\n",
    "num_class = 10\n",
    "\n",
    "# 모든 클래스에 대해 반복\n",
    "for c, freq in predict_label_count_dict.items() :\n",
    "    TP = 0\n",
    "    FN = 0\n",
    "\n",
    "    temp_precision = []\n",
    "    temp_recall = []\n",
    "    \n",
    "    for i in range(len(p)):\n",
    "        # TP, FN 계산\n",
    "        if l[i] == c and p[i] == c :\n",
    "            TP += 1\n",
    "        elif l[i] != c and p[i] == c :\n",
    "            FN += 1\n",
    "        \n",
    "        # preciison, recall 계산            \n",
    "        if TP+FN != 0: \n",
    "            temp_precision.append(TP/(TP+FN))\n",
    "            temp_recall.append(TP/freq)\n",
    "\n",
    "    # AP 배열에 클래스 각각의 AP value 저장\n",
    "    # auc : preciison-recall curve의 면적 구해줌\n",
    "    AP.append(auc(temp_recall, temp_precision))\n",
    "    \n",
    "mAP = sum(AP) / num_class\n",
    "\n",
    "# 각각의 클래스에 대한 AP와 mAP의 Table 출력 부분입니다.\n",
    "class_name = ['T-shirt/top','Trouser','Pullover','Dress','Coat','Sandal','Shirt','Sneaker','Bag','Ankle boot']\n",
    "table = \"| {:<13} | {:<13} |\\n\".format(\"Class\", \"AP\") + \"|---------------|---------------|\\n\"\n",
    "\n",
    "for c_name, ap in zip(class_name, AP):\n",
    "    table += \"| {:<13} | {:<13.3f} |\\n\".format(c_name, ap)\n",
    "\n",
    "table += \"| {:<13} | {:<13.3f} |\\n\".format(\"mAP\", mAP)\n",
    "\n",
    "print(table)"
   ]
  },
  {
   "cell_type": "code",
   "execution_count": null,
   "metadata": {},
   "outputs": [],
   "source": []
  }
 ],
 "metadata": {
  "kernelspec": {
   "display_name": "base",
   "language": "python",
   "name": "python3"
  },
  "language_info": {
   "codemirror_mode": {
    "name": "ipython",
    "version": 3
   },
   "file_extension": ".py",
   "mimetype": "text/x-python",
   "name": "python",
   "nbconvert_exporter": "python",
   "pygments_lexer": "ipython3",
   "version": "3.11.4"
  }
 },
 "nbformat": 4,
 "nbformat_minor": 2
}
