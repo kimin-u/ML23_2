{
 "cells": [
  {
   "cell_type": "code",
   "execution_count": 1,
   "metadata": {},
   "outputs": [],
   "source": [
    "import pandas as pd\n",
    "from tqdm import tqdm\n",
    "from tensorflow.keras.preprocessing.image import ImageDataGenerator\n",
    "from tensorflow.keras.preprocessing import image\n",
    "import numpy as np\n",
    "import os\n",
    "\n"
   ]
  },
  {
   "cell_type": "code",
   "execution_count": 2,
   "metadata": {},
   "outputs": [],
   "source": [
    "# 데이터 불러오기\n",
    "training_data = pd.read_csv('../archive/fashion-mnist_train.csv')\n",
    "train_y = training_data['label']\n",
    "train_X = training_data.drop('label', axis=1)\n",
    "\n",
    "test_data = pd.read_csv('../archive/fashion-mnist_test.csv')\n",
    "test_y = test_data['label']\n",
    "test_X = test_data.drop('label', axis=1)\n",
    "\n"
   ]
  },
  {
   "cell_type": "code",
   "execution_count": 3,
   "metadata": {},
   "outputs": [
    {
     "name": "stderr",
     "output_type": "stream",
     "text": [
      "  0%|          | 0/60000 [00:00<?, ?it/s]"
     ]
    },
    {
     "name": "stderr",
     "output_type": "stream",
     "text": [
      "100%|██████████| 60000/60000 [02:46<00:00, 360.26it/s]\n"
     ]
    }
   ],
   "source": [
    "# ImageDataGenerator를 사용하여 데이터 증강 설정\n",
    "datagen = ImageDataGenerator(\n",
    "    width_shift_range=0.1,\n",
    "    height_shift_range=0.1\n",
    ")\n",
    "\n",
    "np.random.seed(42)\n",
    "\n",
    "# 현재 디렉토리 아래에 'train_img' 폴더 생성\n",
    "output_dir = './train_img/'\n",
    "os.makedirs(output_dir, exist_ok=True)\n",
    "\n",
    "# 데이터 증강 및 저장 반복문\n",
    "with open('train_label.txt', 'w') as label_file:\n",
    "    for index, row in tqdm(train_X.iterrows(), total=len(train_X)):\n",
    "        # 0에서 1 사이의 난수 생성\n",
    "        random_num = np.random.random()\n",
    "\n",
    "        img = row.values.reshape((28, 28, 1))\n",
    "        img_array = image.img_to_array(img)\n",
    "        img_array = np.expand_dims(img_array, axis=0)\n",
    "\n",
    "        # 원래 데이터 저장\n",
    "        original_img_path = os.path.join(output_dir, f'train_img_{index:06d}.png')\n",
    "        image.save_img(original_img_path, img_array[0])\n",
    "        label_file.write(f\"{index:06d} {train_y[index]}\\n\")\n",
    "\n",
    "        # 2/3 확률로 증강된 데이터 저장\n",
    "        if random_num > 0.33:\n",
    "            augmented_img_array = next(datagen.flow(img_array, batch_size=1))\n",
    "            augmented_img_array = augmented_img_array.squeeze(axis=0)  # 첫 번째 차원 제거\n",
    "            augmented_img_path = os.path.join(output_dir, f'train_img_{index:06d}_aug.png')\n",
    "            image.save_img(augmented_img_path, augmented_img_array)\n",
    "            label_file.write(f\"{index:06d}_aug {train_y[index]}\\n\")\n",
    "        "
   ]
  },
  {
   "cell_type": "markdown",
   "metadata": {},
   "source": [
    "#### 앞으로 훈련할 때 데이터를 해당 png파일을 갖고있는 폴더와 해당 폴더 아래에 있는 부류정보가 들어있는 txt를 사용"
   ]
  },
  {
   "cell_type": "markdown",
   "metadata": {},
   "source": []
  }
 ],
 "metadata": {
  "kernelspec": {
   "display_name": "Python 3",
   "language": "python",
   "name": "python3"
  },
  "language_info": {
   "codemirror_mode": {
    "name": "ipython",
    "version": 3
   },
   "file_extension": ".py",
   "mimetype": "text/x-python",
   "name": "python",
   "nbconvert_exporter": "python",
   "pygments_lexer": "ipython3",
   "version": "3.10.11"
  }
 },
 "nbformat": 4,
 "nbformat_minor": 2
}
